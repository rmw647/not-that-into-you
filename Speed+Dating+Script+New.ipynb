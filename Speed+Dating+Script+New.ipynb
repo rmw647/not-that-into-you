{
 "cells": [
  {
   "cell_type": "markdown",
   "metadata": {},
   "source": [
    "Import Necessary Packages"
   ]
  },
  {
   "cell_type": "code",
   "execution_count": 13,
   "metadata": {
    "collapsed": false
   },
   "outputs": [],
   "source": [
    "import cluster_freq\n",
    "import generate_clusters\n",
    "import generate_plotly\n",
    "import get_matches\n",
    "import json\n",
    "import matplotlib.pyplot as plt\n",
    "import networkx as nx\n",
    "import network_graph\n",
    "import numpy as np\n",
    "import pandas as pd\n",
    "import plotly \n",
    "import plotly.plotly as py\n",
    "from plotly.graph_objs import *\n",
    "import pylab\n",
    "import set_plotly_credentials as setply\n",
    "from sklearn.cluster import KMeans"
   ]
  },
  {
   "cell_type": "markdown",
   "metadata": {},
   "source": [
    "Read in Dataset"
   ]
  },
  {
   "cell_type": "code",
   "execution_count": 14,
   "metadata": {
    "collapsed": false
   },
   "outputs": [],
   "source": [
    "filepath = 'https://raw.githubusercontent.com/rmw647/not-that-into-you/master/Speed%20Dating%20Data.csv'\n",
    "data = pd.read_csv(filepath, encoding='latin1')"
   ]
  },
  {
   "cell_type": "markdown",
   "metadata": {},
   "source": [
    "Downselect columns to ones needed for analysis and create a smaller dataframe with only those columns."
   ]
  },
  {
   "cell_type": "code",
   "execution_count": 15,
   "metadata": {
    "collapsed": false
   },
   "outputs": [],
   "source": [
    "keep_columns = ['iid','pid','match','age','sports','tvsports','exercise','dining','museums',\n",
    "                'art','hiking','gaming','clubbing','reading','tv','theater','movies','concerts',\n",
    "                'music','shopping','yoga','exphappy']\n",
    "bio_info = data[keep_columns]\n",
    "bio_info = bio_info.dropna(how='any')"
   ]
  },
  {
   "cell_type": "markdown",
   "metadata": {},
   "source": [
    "Original dataframe has 10 records for each participant (one record for each date they went on). Create a subsetted dataframe that contains only one row for participant."
   ]
  },
  {
   "cell_type": "code",
   "execution_count": 16,
   "metadata": {
    "collapsed": false
   },
   "outputs": [],
   "source": [
    "bio_info_subset = bio_info.drop_duplicates(subset='iid')"
   ]
  },
  {
   "cell_type": "markdown",
   "metadata": {},
   "source": [
    "Select out the data for particpants who matched. Create a dataframe of patching pairs and a list of edges with data (person1,  person2)."
   ]
  },
  {
   "cell_type": "code",
   "execution_count": 17,
   "metadata": {
    "collapsed": true
   },
   "outputs": [],
   "source": [
    "matches, edges = get_matches.get_matches(bio_info)"
   ]
  },
  {
   "cell_type": "markdown",
   "metadata": {},
   "source": [
    "Perform K-means clustering. No need to normalize because all data used is on the same scale (1- 10). We ran for several different numbers of clusters, and found 3 was a manageable number that still offered granularity.\n",
    "\n",
    "Add a column to the subsetted data that shows the cluster assignment for each participant."
   ]
  },
  {
   "cell_type": "code",
   "execution_count": 18,
   "metadata": {
    "collapsed": false
   },
   "outputs": [
    {
     "name": "stderr",
     "output_type": "stream",
     "text": [
      "/Users/laurenwilliams/Documents/capstone/not-that-into-you/generate_clusters.py:23: SettingWithCopyWarning:\n",
      "\n",
      "\n",
      "A value is trying to be set on a copy of a slice from a DataFrame.\n",
      "Try using .loc[row_indexer,col_indexer] = value instead\n",
      "\n",
      "See the caveats in the documentation: http://pandas.pydata.org/pandas-docs/stable/indexing.html#indexing-view-versus-copy\n",
      "\n"
     ]
    }
   ],
   "source": [
    "cluster_columns = ['sports','tvsports','exercise','dining','museums','art','hiking','gaming','clubbing',\n",
    "                   'reading','tv','theater','movies','concerts','music','shopping','yoga','exphappy']\n",
    "number_of_clusters = 4\n",
    "bio_info_subset = generate_clusters.generate_clusters(bio_info_subset, cluster_columns, \n",
    "                                                      number_of_clusters,'cluster_assignment')"
   ]
  },
  {
   "cell_type": "markdown",
   "metadata": {},
   "source": [
    "Create and plot a network graph showing the interactions within and between clusters of people."
   ]
  },
  {
   "cell_type": "code",
   "execution_count": 19,
   "metadata": {
    "collapsed": false
   },
   "outputs": [],
   "source": [
    "G, clusters = network_graph.network_graph(bio_info_subset, edges, \"circles\", number_of_clusters)"
   ]
  },
  {
   "cell_type": "code",
   "execution_count": 20,
   "metadata": {
    "collapsed": false
   },
   "outputs": [],
   "source": [
    "setply.set_plotly_credentials('credentials.json')"
   ]
  },
  {
   "cell_type": "code",
   "execution_count": 21,
   "metadata": {
    "collapsed": false,
    "scrolled": true
   },
   "outputs": [],
   "source": [
    "awesome_plot = generate_plotly.generate_plotly(G, clusters)"
   ]
  },
  {
   "cell_type": "code",
   "execution_count": 22,
   "metadata": {
    "collapsed": false
   },
   "outputs": [
    {
     "data": {
      "text/html": [
       "<iframe id=\"igraph\" scrolling=\"no\" style=\"border:none;\" seamless=\"seamless\" src=\"https://plot.ly/~KellyFowler/10.embed\" height=\"650px\" width=\"650px\"></iframe>"
      ],
      "text/plain": [
       "<plotly.tools.PlotlyDisplay object>"
      ]
     },
     "execution_count": 22,
     "metadata": {},
     "output_type": "execute_result"
    }
   ],
   "source": [
    "awesome_plot"
   ]
  },
  {
   "cell_type": "markdown",
   "metadata": {},
   "source": [
    "Do people within the same cluster match with each other more frequently than they match with people in other clusters? Make a plot showing how often people match within cluster and outside cluster."
   ]
  },
  {
   "cell_type": "code",
   "execution_count": 28,
   "metadata": {
    "collapsed": true
   },
   "outputs": [],
   "source": [
    "def cluster_freq(clusters, matches):\n",
    "    \"\"\"Creates bar chart showing number of matches within clusters\n",
    "\n",
    "    Parameters\n",
    "    ----------\n",
    "    cluster: dictionary with cluster (id, cluster_id)\n",
    "    matches: list of matches (id, partner_id)\n",
    "\n",
    "    Returns\n",
    "    -------\n",
    "    None\n",
    "    \"\"\"\n",
    "\n",
    "    new = pd.DataFrame.from_dict(clusters, orient='index').reset_index()\n",
    "    new.rename(columns={'index': 'iid', 0: 'cluster'}, inplace=True)\n",
    "    together = pd.merge(new,matches,left_on=new.iid,right_on=matches.iid,\n",
    "                        how='right')\n",
    "    together2 = pd.merge(together,new,left_on=together.pid,right_on=new.iid,\n",
    "                        how='left')\n",
    "    together2 = together2.groupby(['iid_x', 'iid']).last()\n",
    "    together2['same cluster'] = together2.cluster_x-together2.cluster_y\n",
    "    together2[together2['same cluster'] != 0] = 'Different Clusters'\n",
    "    together2[together2['same cluster'] == 0] = 'Same Cluster'\n",
    "    together2['same cluster'].value_counts().plot(kind='bar')\n",
    "    \n",
    "    plt.show()"
   ]
  },
  {
   "cell_type": "code",
   "execution_count": 30,
   "metadata": {
    "collapsed": false
   },
   "outputs": [
    {
     "data": {
      "image/png": "[encoded data removed]",
      "text/plain": [
       "<matplotlib.figure.Figure at 0x126c2d358>"
      ]
     },
     "metadata": {},
     "output_type": "display_data"
    }
   ],
   "source": [
    "cluster_freq(clusters,matches)"
   ]
  },
  {
   "cell_type": "code",
   "execution_count": 24,
   "metadata": {
    "collapsed": false
   },
   "outputs": [
    {
     "data": {
      "text/plain": [
       "{'cluster0': 152, 'cluster1': 146, 'cluster2': 117, 'cluster3': 127}"
      ]
     },
     "execution_count": 24,
     "metadata": {},
     "output_type": "execute_result"
    }
   ],
   "source": [
    "cluster_sizes = cluster_freq.get_cluster_size(bio_info_subset)\n",
    "cluster_sizes"
   ]
  },
  {
   "cell_type": "code",
   "execution_count": 25,
   "metadata": {
    "collapsed": false
   },
   "outputs": [],
   "source": [
    "profiles = bio_info_subset.groupby(['cluster_assignment']).mean()\n",
    "profiles.drop(['pid','iid'], inplace=True,axis=1)"
   ]
  },
  {
   "cell_type": "code",
   "execution_count": 27,
   "metadata": {
    "collapsed": false
   },
   "outputs": [
    {
     "data": {
      "text/html": [
       "<div>\n",
       "<table border=\"1\" class=\"dataframe\">\n",
       "  <thead>\n",
       "    <tr style=\"text-align: right;\">\n",
       "      <th></th>\n",
       "      <th>match</th>\n",
       "      <th>age</th>\n",
       "      <th>sports</th>\n",
       "      <th>tvsports</th>\n",
       "      <th>exercise</th>\n",
       "      <th>dining</th>\n",
       "      <th>museums</th>\n",
       "      <th>art</th>\n",
       "      <th>hiking</th>\n",
       "      <th>gaming</th>\n",
       "      <th>clubbing</th>\n",
       "      <th>reading</th>\n",
       "      <th>tv</th>\n",
       "      <th>theater</th>\n",
       "      <th>movies</th>\n",
       "      <th>concerts</th>\n",
       "      <th>music</th>\n",
       "      <th>shopping</th>\n",
       "      <th>yoga</th>\n",
       "      <th>exphappy</th>\n",
       "    </tr>\n",
       "    <tr>\n",
       "      <th>cluster_assignment</th>\n",
       "      <th></th>\n",
       "      <th></th>\n",
       "      <th></th>\n",
       "      <th></th>\n",
       "      <th></th>\n",
       "      <th></th>\n",
       "      <th></th>\n",
       "      <th></th>\n",
       "      <th></th>\n",
       "      <th></th>\n",
       "      <th></th>\n",
       "      <th></th>\n",
       "      <th></th>\n",
       "      <th></th>\n",
       "      <th></th>\n",
       "      <th></th>\n",
       "      <th></th>\n",
       "      <th></th>\n",
       "      <th></th>\n",
       "      <th></th>\n",
       "    </tr>\n",
       "  </thead>\n",
       "  <tbody>\n",
       "    <tr>\n",
       "      <th>0</th>\n",
       "      <td>0.138158</td>\n",
       "      <td>25.907895</td>\n",
       "      <td>7.414474</td>\n",
       "      <td>5.756579</td>\n",
       "      <td>6.447368</td>\n",
       "      <td>6.907895</td>\n",
       "      <td>4.888158</td>\n",
       "      <td>4.302632</td>\n",
       "      <td>4.756579</td>\n",
       "      <td>4.394737</td>\n",
       "      <td>5.815789</td>\n",
       "      <td>6.671053</td>\n",
       "      <td>5.500000</td>\n",
       "      <td>4.723684</td>\n",
       "      <td>7.052632</td>\n",
       "      <td>5.546053</td>\n",
       "      <td>7.243421</td>\n",
       "      <td>4.907895</td>\n",
       "      <td>2.638158</td>\n",
       "      <td>5.611842</td>\n",
       "    </tr>\n",
       "    <tr>\n",
       "      <th>1</th>\n",
       "      <td>0.164384</td>\n",
       "      <td>25.691781</td>\n",
       "      <td>7.650685</td>\n",
       "      <td>6.390411</td>\n",
       "      <td>7.294521</td>\n",
       "      <td>8.630137</td>\n",
       "      <td>8.075342</td>\n",
       "      <td>7.917808</td>\n",
       "      <td>6.924658</td>\n",
       "      <td>5.047945</td>\n",
       "      <td>6.342466</td>\n",
       "      <td>7.821918</td>\n",
       "      <td>6.746575</td>\n",
       "      <td>7.979452</td>\n",
       "      <td>8.630137</td>\n",
       "      <td>8.075342</td>\n",
       "      <td>8.561644</td>\n",
       "      <td>7.041096</td>\n",
       "      <td>5.952055</td>\n",
       "      <td>6.041096</td>\n",
       "    </tr>\n",
       "    <tr>\n",
       "      <th>2</th>\n",
       "      <td>0.145299</td>\n",
       "      <td>26.452991</td>\n",
       "      <td>3.299145</td>\n",
       "      <td>2.658120</td>\n",
       "      <td>4.897436</td>\n",
       "      <td>8.435897</td>\n",
       "      <td>7.811966</td>\n",
       "      <td>7.615385</td>\n",
       "      <td>4.461538</td>\n",
       "      <td>2.957265</td>\n",
       "      <td>5.991453</td>\n",
       "      <td>8.282051</td>\n",
       "      <td>6.042735</td>\n",
       "      <td>8.196581</td>\n",
       "      <td>8.623932</td>\n",
       "      <td>7.188034</td>\n",
       "      <td>8.111111</td>\n",
       "      <td>7.008547</td>\n",
       "      <td>4.752137</td>\n",
       "      <td>4.692308</td>\n",
       "    </tr>\n",
       "    <tr>\n",
       "      <th>3</th>\n",
       "      <td>0.149606</td>\n",
       "      <td>27.582677</td>\n",
       "      <td>6.622047</td>\n",
       "      <td>2.763780</td>\n",
       "      <td>6.251969</td>\n",
       "      <td>7.212598</td>\n",
       "      <td>7.433071</td>\n",
       "      <td>7.267717</td>\n",
       "      <td>6.763780</td>\n",
       "      <td>2.645669</td>\n",
       "      <td>4.748031</td>\n",
       "      <td>8.007874</td>\n",
       "      <td>2.826772</td>\n",
       "      <td>6.472441</td>\n",
       "      <td>7.401575</td>\n",
       "      <td>6.669291</td>\n",
       "      <td>7.622047</td>\n",
       "      <td>3.511811</td>\n",
       "      <td>4.448819</td>\n",
       "      <td>5.535433</td>\n",
       "    </tr>\n",
       "  </tbody>\n",
       "</table>\n",
       "</div>"
      ],
      "text/plain": [
       "                       match        age    sports  tvsports  exercise  \\\n",
       "cluster_assignment                                                      \n",
       "0                   0.138158  25.907895  7.414474  5.756579  6.447368   \n",
       "1                   0.164384  25.691781  7.650685  6.390411  7.294521   \n",
       "2                   0.145299  26.452991  3.299145  2.658120  4.897436   \n",
       "3                   0.149606  27.582677  6.622047  2.763780  6.251969   \n",
       "\n",
       "                      dining   museums       art    hiking    gaming  \\\n",
       "cluster_assignment                                                     \n",
       "0                   6.907895  4.888158  4.302632  4.756579  4.394737   \n",
       "1                   8.630137  8.075342  7.917808  6.924658  5.047945   \n",
       "2                   8.435897  7.811966  7.615385  4.461538  2.957265   \n",
       "3                   7.212598  7.433071  7.267717  6.763780  2.645669   \n",
       "\n",
       "                    clubbing   reading        tv   theater    movies  \\\n",
       "cluster_assignment                                                     \n",
       "0                   5.815789  6.671053  5.500000  4.723684  7.052632   \n",
       "1                   6.342466  7.821918  6.746575  7.979452  8.630137   \n",
       "2                   5.991453  8.282051  6.042735  8.196581  8.623932   \n",
       "3                   4.748031  8.007874  2.826772  6.472441  7.401575   \n",
       "\n",
       "                    concerts     music  shopping      yoga  exphappy  \n",
       "cluster_assignment                                                    \n",
       "0                   5.546053  7.243421  4.907895  2.638158  5.611842  \n",
       "1                   8.075342  8.561644  7.041096  5.952055  6.041096  \n",
       "2                   7.188034  8.111111  7.008547  4.752137  4.692308  \n",
       "3                   6.669291  7.622047  3.511811  4.448819  5.535433  "
      ]
     },
     "execution_count": 27,
     "metadata": {},
     "output_type": "execute_result"
    }
   ],
   "source": [
    "profiles"
   ]
  },
  {
   "cell_type": "code",
   "execution_count": 26,
   "metadata": {
    "collapsed": false
   },
   "outputs": [
    {
     "data": {
      "text/plain": [
       "<matplotlib.axes._subplots.AxesSubplot at 0x11f83f898>"
      ]
     },
     "execution_count": 26,
     "metadata": {},
     "output_type": "execute_result"
    },
    {
     "data": {
      "image/png": "[encoded data removed]",
      "text/plain": [
       "<matplotlib.figure.Figure at 0x11e765d30>"
      ]
     },
     "metadata": {},
     "output_type": "display_data"
    }
   ],
   "source": [
    "%matplotlib inline\n",
    "profiles_subset=profiles[['sports','cluster_assignment','exercise','dining','muse]]\n",
    "profiles_subset.plot(kind = 'bar')"
   ]
  },
  {
   "cell_type": "code",
   "execution_count": 47,
   "metadata": {
    "collapsed": false
   },
   "outputs": [
    {
     "data": {
      "image/png": "[encoded data removed]",
      "text/plain": [
       "<matplotlib.figure.Figure at 0x11ffe8828>"
      ]
     },
     "metadata": {},
     "output_type": "display_data"
    }
   ],
   "source": [
    "plt.bar(profiles.index, profiles.shopping, color = '#a6cee3')\n",
    "plt.bar(profiles.index, profiles.sports, color = '#1f78b4', bottom = profiles.shopping)\n",
    "plt.bar(profiles.index, profiles.exercise, color = '#b2df8a')\n",
    "#plt.bar(profiles.index, profiles.museums, color = '#fb9a99', bottom = profiles.shopping)\n",
    "#plt.bar(profiles.index, profiles.gaming, color = '#e31a1c', bottom = profiles.shopping)\n",
    "#plt.bar(profiles.index, profiles.clubbing, color = '#fdbf6f', bottom = profiles.shopping)\n",
    "#plt.bar(profiles.index, profiles.reading, color = '#ff7f00', bottom = profiles.shopping)\n",
    "#plt.bar(profiles.index, profiles.exphappy, color = '#cab2d6', bottom = profiles.shopping)\n",
    "#plt.bar(profiles.index, profiles.concerts, color = '#6a3d9a', bottom = profiles.shopping)\n",
    "#plt.xticks(np.arange(0, number_of_clusters, 1.0))\n",
    "plt.show()"
   ]
  },
  {
   "cell_type": "code",
   "execution_count": null,
   "metadata": {
    "collapsed": true
   },
   "outputs": [],
   "source": []
  }
 ],
 "metadata": {
  "kernelspec": {
   "display_name": "Python 3",
   "language": "python",
   "name": "python3"
  },
  "language_info": {
   "codemirror_mode": {
    "name": "ipython",
    "version": 3
   },
   "file_extension": ".py",
   "mimetype": "text/x-python",
   "name": "python",
   "nbconvert_exporter": "python",
   "pygments_lexer": "ipython3",
   "version": "3.6.0"
  }
 },
 "nbformat": 4,
 "nbformat_minor": 2
}
