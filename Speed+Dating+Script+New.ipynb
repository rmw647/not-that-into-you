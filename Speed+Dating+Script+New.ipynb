{
 "cells": [
  {
   "cell_type": "markdown",
   "metadata": {},
   "source": [
    "Import Necessary Packages"
   ]
  },
  {
   "cell_type": "code",
   "execution_count": 1,
   "metadata": {
    "collapsed": false
   },
   "outputs": [],
   "source": [
    "import cluster_freq\n",
    "import generate_clusters\n",
    "import generate_plotly\n",
    "import get_matches\n",
    "import json\n",
    "import matplotlib.pyplot as plt\n",
    "import networkx as nx\n",
    "import network_graph\n",
    "import numpy as np\n",
    "import pandas as pd\n",
    "import plotly \n",
    "import plotly.plotly as py\n",
    "from plotly.graph_objs import *\n",
    "import pylab\n",
    "import set_plotly_credentials as setply\n",
    "from sklearn.cluster import KMeans"
   ]
  },
  {
   "cell_type": "markdown",
   "metadata": {},
   "source": [
    "Read in Dataset"
   ]
  },
  {
   "cell_type": "code",
   "execution_count": 2,
   "metadata": {
    "collapsed": false
   },
   "outputs": [],
   "source": [
    "filepath = 'https://raw.githubusercontent.com/rmw647/not-that-into-you/master/Speed%20Dating%20Data.csv'\n",
    "data = pd.read_csv(filepath, encoding='latin1')"
   ]
  },
  {
   "cell_type": "markdown",
   "metadata": {},
   "source": [
    "Downselect columns to ones needed for analysis and create a smaller dataframe with only those columns."
   ]
  },
  {
   "cell_type": "code",
   "execution_count": 3,
   "metadata": {
    "collapsed": false
   },
   "outputs": [],
   "source": [
    "keep_columns = ['iid','pid','match','age','sports','tvsports','exercise','dining','museums',\n",
    "                'art','hiking','gaming','clubbing','reading','tv','theater','movies','concerts',\n",
    "                'music','shopping','yoga','exphappy']\n",
    "bio_info = data[keep_columns]\n",
    "bio_info = bio_info.dropna(how='any')"
   ]
  },
  {
   "cell_type": "markdown",
   "metadata": {},
   "source": [
    "Original dataframe has 10 records for each participant (one record for each date they went on). Create a subsetted dataframe that contains only one row for participant."
   ]
  },
  {
   "cell_type": "code",
   "execution_count": 4,
   "metadata": {
    "collapsed": false
   },
   "outputs": [],
   "source": [
    "bio_info_subset = bio_info.drop_duplicates(subset='iid')"
   ]
  },
  {
   "cell_type": "markdown",
   "metadata": {},
   "source": [
    "Select out the data for particpants who matched. Create a dataframe of patching pairs and a list of edges with data (person1,  person2)."
   ]
  },
  {
   "cell_type": "code",
   "execution_count": 5,
   "metadata": {
    "collapsed": true
   },
   "outputs": [],
   "source": [
    "matches, edges = get_matches.get_matches(bio_info)"
   ]
  },
  {
   "cell_type": "markdown",
   "metadata": {},
   "source": [
    "Perform K-means clustering. No need to normalize because all data used is on the same scale (1- 10). We ran for several different numbers of clusters, and found 3 was a manageable number that still offered granularity.\n",
    "\n",
    "Add a column to the subsetted data that shows the cluster assignment for each participant."
   ]
  },
  {
   "cell_type": "code",
   "execution_count": 6,
   "metadata": {
    "collapsed": false
   },
   "outputs": [
    {
     "name": "stderr",
     "output_type": "stream",
     "text": [
      "/Users/laurenwilliams/Documents/capstone/not-that-into-you/generate_clusters.py:23: SettingWithCopyWarning:\n",
      "\n",
      "\n",
      "A value is trying to be set on a copy of a slice from a DataFrame.\n",
      "Try using .loc[row_indexer,col_indexer] = value instead\n",
      "\n",
      "See the caveats in the documentation: http://pandas.pydata.org/pandas-docs/stable/indexing.html#indexing-view-versus-copy\n",
      "\n"
     ]
    }
   ],
   "source": [
    "cluster_columns = ['sports','tvsports','exercise','dining','museums','art','hiking','gaming','clubbing',\n",
    "                   'reading','tv','theater','movies','concerts','music','shopping','yoga','exphappy']\n",
    "number_of_clusters = 4\n",
    "bio_info_subset = generate_clusters.generate_clusters(bio_info_subset, cluster_columns, \n",
    "                                                      number_of_clusters,'cluster_assignment')"
   ]
  },
  {
   "cell_type": "markdown",
   "metadata": {},
   "source": [
    "Create and plot a network graph showing the interactions within and between clusters of people."
   ]
  },
  {
   "cell_type": "code",
   "execution_count": 18,
   "metadata": {
    "collapsed": false
   },
   "outputs": [],
   "source": [
    "G, clusters = network_graph.network_graph(bio_info_subset, edges, \"matches\", number_of_clusters)"
   ]
  },
  {
   "cell_type": "code",
   "execution_count": 19,
   "metadata": {
    "collapsed": false
   },
   "outputs": [],
   "source": [
    "setply.set_plotly_credentials('credentials.json')"
   ]
  },
  {
   "cell_type": "code",
   "execution_count": 20,
   "metadata": {
    "collapsed": false,
    "scrolled": true
   },
   "outputs": [],
   "source": [
    "awesome_plot = generate_plotly.generate_plotly(G, clusters)"
   ]
  },
  {
   "cell_type": "code",
   "execution_count": 21,
   "metadata": {
    "collapsed": false
   },
   "outputs": [
    {
     "data": {
      "text/html": [
       "<iframe id=\"igraph\" scrolling=\"no\" style=\"border:none;\" seamless=\"seamless\" src=\"https://plot.ly/~KellyFowler/10.embed\" height=\"650px\" width=\"650px\"></iframe>"
      ],
      "text/plain": [
       "<plotly.tools.PlotlyDisplay object>"
      ]
     },
     "execution_count": 21,
     "metadata": {},
     "output_type": "execute_result"
    }
   ],
   "source": [
    "awesome_plot"
   ]
  },
  {
   "cell_type": "markdown",
   "metadata": {},
   "source": [
    "Do people within the same cluster match with each other more frequently than they match with people in other clusters? Make a plot showing how often people match within cluster and outside cluster."
   ]
  },
  {
   "cell_type": "code",
   "execution_count": 12,
   "metadata": {
    "collapsed": false
   },
   "outputs": [
    {
     "data": {
      "image/png": "[encoded data removed]",
      "text/plain": [
       "<matplotlib.figure.Figure at 0x11035b5f8>"
      ]
     },
     "metadata": {},
     "output_type": "display_data"
    }
   ],
   "source": [
    "cluster_freq.cluster_freq(clusters,matches)"
   ]
  },
  {
   "cell_type": "code",
   "execution_count": 13,
   "metadata": {
    "collapsed": false
   },
   "outputs": [
    {
     "data": {
      "text/plain": [
       "{'cluster0': 125, 'cluster1': 119, 'cluster2': 141, 'cluster3': 157}"
      ]
     },
     "execution_count": 13,
     "metadata": {},
     "output_type": "execute_result"
    }
   ],
   "source": [
    "cluster_sizes = cluster_freq.get_cluster_size(bio_info_subset)\n",
    "cluster_sizes"
   ]
  },
  {
   "cell_type": "code",
   "execution_count": 14,
   "metadata": {
    "collapsed": false
   },
   "outputs": [],
   "source": [
    "profiles = bio_info_subset.groupby(['cluster_assignment']).mean()\n",
    "profiles.drop(['pid','iid'], inplace=True,axis=1)"
   ]
  },
  {
   "cell_type": "code",
   "execution_count": 15,
   "metadata": {
    "collapsed": false
   },
   "outputs": [
    {
     "data": {
      "text/html": [
       "<div>\n",
       "<table border=\"1\" class=\"dataframe\">\n",
       "  <thead>\n",
       "    <tr style=\"text-align: right;\">\n",
       "      <th></th>\n",
       "      <th>match</th>\n",
       "      <th>age</th>\n",
       "      <th>sports</th>\n",
       "      <th>tvsports</th>\n",
       "      <th>exercise</th>\n",
       "      <th>dining</th>\n",
       "      <th>museums</th>\n",
       "      <th>art</th>\n",
       "      <th>hiking</th>\n",
       "      <th>gaming</th>\n",
       "      <th>clubbing</th>\n",
       "      <th>reading</th>\n",
       "      <th>tv</th>\n",
       "      <th>theater</th>\n",
       "      <th>movies</th>\n",
       "      <th>concerts</th>\n",
       "      <th>music</th>\n",
       "      <th>shopping</th>\n",
       "      <th>yoga</th>\n",
       "      <th>exphappy</th>\n",
       "    </tr>\n",
       "    <tr>\n",
       "      <th>cluster_assignment</th>\n",
       "      <th></th>\n",
       "      <th></th>\n",
       "      <th></th>\n",
       "      <th></th>\n",
       "      <th></th>\n",
       "      <th></th>\n",
       "      <th></th>\n",
       "      <th></th>\n",
       "      <th></th>\n",
       "      <th></th>\n",
       "      <th></th>\n",
       "      <th></th>\n",
       "      <th></th>\n",
       "      <th></th>\n",
       "      <th></th>\n",
       "      <th></th>\n",
       "      <th></th>\n",
       "      <th></th>\n",
       "      <th></th>\n",
       "      <th></th>\n",
       "    </tr>\n",
       "  </thead>\n",
       "  <tbody>\n",
       "    <tr>\n",
       "      <th>0</th>\n",
       "      <td>0.144000</td>\n",
       "      <td>27.840000</td>\n",
       "      <td>6.224000</td>\n",
       "      <td>2.360000</td>\n",
       "      <td>6.280000</td>\n",
       "      <td>7.320000</td>\n",
       "      <td>7.440000</td>\n",
       "      <td>7.208000</td>\n",
       "      <td>6.472000</td>\n",
       "      <td>2.560000</td>\n",
       "      <td>4.672000</td>\n",
       "      <td>8.152000</td>\n",
       "      <td>2.920000</td>\n",
       "      <td>6.568000</td>\n",
       "      <td>7.432000</td>\n",
       "      <td>6.728000</td>\n",
       "      <td>7.640000</td>\n",
       "      <td>3.608000</td>\n",
       "      <td>4.536000</td>\n",
       "      <td>5.448000</td>\n",
       "    </tr>\n",
       "    <tr>\n",
       "      <th>1</th>\n",
       "      <td>0.151261</td>\n",
       "      <td>25.966387</td>\n",
       "      <td>3.260504</td>\n",
       "      <td>2.647059</td>\n",
       "      <td>4.621849</td>\n",
       "      <td>8.319328</td>\n",
       "      <td>7.420168</td>\n",
       "      <td>7.252101</td>\n",
       "      <td>4.579832</td>\n",
       "      <td>3.361345</td>\n",
       "      <td>6.168067</td>\n",
       "      <td>7.831933</td>\n",
       "      <td>6.386555</td>\n",
       "      <td>7.966387</td>\n",
       "      <td>8.647059</td>\n",
       "      <td>7.243697</td>\n",
       "      <td>8.142857</td>\n",
       "      <td>7.151261</td>\n",
       "      <td>4.630252</td>\n",
       "      <td>4.655462</td>\n",
       "    </tr>\n",
       "    <tr>\n",
       "      <th>2</th>\n",
       "      <td>0.148936</td>\n",
       "      <td>25.815603</td>\n",
       "      <td>7.673759</td>\n",
       "      <td>6.276596</td>\n",
       "      <td>7.361702</td>\n",
       "      <td>8.652482</td>\n",
       "      <td>8.212766</td>\n",
       "      <td>8.028369</td>\n",
       "      <td>6.929078</td>\n",
       "      <td>4.815603</td>\n",
       "      <td>6.319149</td>\n",
       "      <td>7.978723</td>\n",
       "      <td>6.695035</td>\n",
       "      <td>8.063830</td>\n",
       "      <td>8.659574</td>\n",
       "      <td>8.092199</td>\n",
       "      <td>8.588652</td>\n",
       "      <td>7.156028</td>\n",
       "      <td>6.085106</td>\n",
       "      <td>6.049645</td>\n",
       "    </tr>\n",
       "    <tr>\n",
       "      <th>3</th>\n",
       "      <td>0.152866</td>\n",
       "      <td>25.968153</td>\n",
       "      <td>7.789809</td>\n",
       "      <td>6.210191</td>\n",
       "      <td>6.617834</td>\n",
       "      <td>6.929936</td>\n",
       "      <td>5.152866</td>\n",
       "      <td>4.636943</td>\n",
       "      <td>4.993631</td>\n",
       "      <td>4.382166</td>\n",
       "      <td>5.764331</td>\n",
       "      <td>6.789809</td>\n",
       "      <td>5.210191</td>\n",
       "      <td>4.828025</td>\n",
       "      <td>7.019108</td>\n",
       "      <td>5.515924</td>\n",
       "      <td>7.216561</td>\n",
       "      <td>4.643312</td>\n",
       "      <td>2.643312</td>\n",
       "      <td>5.726115</td>\n",
       "    </tr>\n",
       "  </tbody>\n",
       "</table>\n",
       "</div>"
      ],
      "text/plain": [
       "                       match        age    sports  tvsports  exercise  \\\n",
       "cluster_assignment                                                      \n",
       "0                   0.144000  27.840000  6.224000  2.360000  6.280000   \n",
       "1                   0.151261  25.966387  3.260504  2.647059  4.621849   \n",
       "2                   0.148936  25.815603  7.673759  6.276596  7.361702   \n",
       "3                   0.152866  25.968153  7.789809  6.210191  6.617834   \n",
       "\n",
       "                      dining   museums       art    hiking    gaming  \\\n",
       "cluster_assignment                                                     \n",
       "0                   7.320000  7.440000  7.208000  6.472000  2.560000   \n",
       "1                   8.319328  7.420168  7.252101  4.579832  3.361345   \n",
       "2                   8.652482  8.212766  8.028369  6.929078  4.815603   \n",
       "3                   6.929936  5.152866  4.636943  4.993631  4.382166   \n",
       "\n",
       "                    clubbing   reading        tv   theater    movies  \\\n",
       "cluster_assignment                                                     \n",
       "0                   4.672000  8.152000  2.920000  6.568000  7.432000   \n",
       "1                   6.168067  7.831933  6.386555  7.966387  8.647059   \n",
       "2                   6.319149  7.978723  6.695035  8.063830  8.659574   \n",
       "3                   5.764331  6.789809  5.210191  4.828025  7.019108   \n",
       "\n",
       "                    concerts     music  shopping      yoga  exphappy  \n",
       "cluster_assignment                                                    \n",
       "0                   6.728000  7.640000  3.608000  4.536000  5.448000  \n",
       "1                   7.243697  8.142857  7.151261  4.630252  4.655462  \n",
       "2                   8.092199  8.588652  7.156028  6.085106  6.049645  \n",
       "3                   5.515924  7.216561  4.643312  2.643312  5.726115  "
      ]
     },
     "execution_count": 15,
     "metadata": {},
     "output_type": "execute_result"
    }
   ],
   "source": [
    "profiles"
   ]
  },
  {
   "cell_type": "code",
   "execution_count": 16,
   "metadata": {
    "collapsed": false
   },
   "outputs": [
    {
     "data": {
      "text/plain": [
       "<matplotlib.axes._subplots.AxesSubplot at 0x11035b518>"
      ]
     },
     "execution_count": 16,
     "metadata": {},
     "output_type": "execute_result"
    },
    {
     "data": {
      "image/png": "[encoded data removed]",
      "text/plain": [
       "<matplotlib.figure.Figure at 0x1182f5b00>"
      ]
     },
     "metadata": {},
     "output_type": "display_data"
    }
   ],
   "source": [
    "%matplotlib inline\n",
    "profiles_subset=profiles[['sports','exercise','dining','museums','reading','clubbing','exphappy']]\n",
    "profiles_subset.plot(kind = 'bar')"
   ]
  },
  {
   "cell_type": "code",
   "execution_count": null,
   "metadata": {
    "collapsed": true
   },
   "outputs": [],
   "source": []
  }
 ],
 "metadata": {
  "kernelspec": {
   "display_name": "Python 3",
   "language": "python",
   "name": "python3"
  },
  "language_info": {
   "codemirror_mode": {
    "name": "ipython",
    "version": 3
   },
   "file_extension": ".py",
   "mimetype": "text/x-python",
   "name": "python",
   "nbconvert_exporter": "python",
   "pygments_lexer": "ipython3",
   "version": "3.6.0"
  }
 },
 "nbformat": 4,
 "nbformat_minor": 2
}
