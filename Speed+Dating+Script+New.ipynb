{
 "cells": [
  {
   "cell_type": "markdown",
   "metadata": {},
   "source": [
    "Import Necessary Packages"
   ]
  },
  {
   "cell_type": "code",
   "execution_count": 19,
   "metadata": {
    "collapsed": false
   },
   "outputs": [],
   "source": [
    "import generate_clusters\n",
    "import generate_plotly\n",
    "import json\n",
    "import matplotlib.pyplot as plt\n",
    "import networkx as nx\n",
    "import network_graph\n",
    "import numpy as np\n",
    "import pandas as pd\n",
    "import plotly \n",
    "import plotly.plotly as py\n",
    "from plotly.graph_objs import *\n",
    "import pylab\n",
    "import set_plotly_credentials as setply\n",
    "from sklearn.cluster import KMeans"
   ]
  },
  {
   "cell_type": "code",
   "execution_count": 20,
   "metadata": {
    "collapsed": false
   },
   "outputs": [],
   "source": [
    "setply.set_plotly_credentials('credentials.json')"
   ]
  },
  {
   "cell_type": "markdown",
   "metadata": {},
   "source": [
    "Read in Necessary Dataset"
   ]
  },
  {
   "cell_type": "code",
   "execution_count": 21,
   "metadata": {
    "collapsed": false
   },
   "outputs": [],
   "source": [
    "filepath = 'https://raw.githubusercontent.com/rmw647/not-that-into-you/master/Speed%20Dating%20Data.csv'\n",
    "data = pd.read_csv(filepath, encoding='latin1')"
   ]
  },
  {
   "cell_type": "markdown",
   "metadata": {},
   "source": [
    "Choose which variables you want to cluster on."
   ]
  },
  {
   "cell_type": "code",
   "execution_count": 22,
   "metadata": {
    "collapsed": false
   },
   "outputs": [],
   "source": [
    "bio_info = data[['iid','pid','match','age','sports','tvsports','exercise','dining','museums','art','hiking','gaming','clubbing','reading','tv','theater','movies','concerts','music','shopping','yoga','exphappy']]"
   ]
  },
  {
   "cell_type": "code",
   "execution_count": 23,
   "metadata": {
    "collapsed": false
   },
   "outputs": [],
   "source": [
    "bio_info = bio_info.dropna(how='any')"
   ]
  },
  {
   "cell_type": "markdown",
   "metadata": {},
   "source": [
    "Only keep one line of background information data for each participant."
   ]
  },
  {
   "cell_type": "code",
   "execution_count": 24,
   "metadata": {
    "collapsed": false
   },
   "outputs": [],
   "source": [
    "bio_info_subset = bio_info.drop_duplicates(subset='iid')"
   ]
  },
  {
   "cell_type": "markdown",
   "metadata": {},
   "source": [
    "Select Out the Speed-Dating Matches for Links"
   ]
  },
  {
   "cell_type": "code",
   "execution_count": 25,
   "metadata": {
    "collapsed": false,
    "scrolled": false
   },
   "outputs": [],
   "source": [
    "matches = bio_info[['iid','pid','match']]\n",
    "matches = matches[matches.match==1]\n",
    "matches['pid'] = matches['pid'].astype(int)\n",
    "matches = matches[matches.iid.isin(bio_info_subset.iid)&matches.pid.isin(bio_info_subset.iid)]\n",
    "edges = list(zip(matches.iid, matches.pid))"
   ]
  },
  {
   "cell_type": "markdown",
   "metadata": {},
   "source": [
    "Perform K-means clustering. Normalize and generate cluster labels."
   ]
  },
  {
   "cell_type": "code",
   "execution_count": 55,
   "metadata": {
    "collapsed": false
   },
   "outputs": [],
   "source": [
    "cluster_columns = ['age','sports','tvsports','exercise','dining','museums','art','hiking','gaming','clubbing',\n",
    "                   'reading','tv','theater','movies','concerts','music','shopping','yoga','exphappy']\n",
    "number_of_clusters=3\n",
    "bio_info_subset = generate_clusters.generate_clusters(bio_info,cluster_columns,number_of_clusters,'cluster_assignment')"
   ]
  },
  {
   "cell_type": "code",
   "execution_count": 57,
   "metadata": {
    "collapsed": false
   },
   "outputs": [],
   "source": [
    "G, clusters = network_graph(bio_info_subset.iid, edges, bio_info_subset.cluster_assignment,\"circles\",number_of_clusters,bio_info)"
   ]
  },
  {
   "cell_type": "code",
   "execution_count": 58,
   "metadata": {
    "collapsed": false,
    "scrolled": true
   },
   "outputs": [
    {
     "name": "stdout",
     "output_type": "stream",
     "text": [
      "High five! You successfuly sent some data to your account on plotly. View your plot in your browser at https://plot.ly/~1215Diana/0 or inside your plot.ly account where it is named 'networkx'\n"
     ]
    }
   ],
   "source": [
    "awesome_plot = generate_plotly.generate_plotly(G, clusters)"
   ]
  },
  {
   "cell_type": "code",
   "execution_count": 59,
   "metadata": {
    "collapsed": false
   },
   "outputs": [
    {
     "data": {
      "text/html": [
       "<iframe id=\"igraph\" scrolling=\"no\" style=\"border:none;\" seamless=\"seamless\" src=\"https://plot.ly/~1215Diana/0.embed\" height=\"650px\" width=\"650px\"></iframe>"
      ],
      "text/plain": [
       "<plotly.tools.PlotlyDisplay object>"
      ]
     },
     "execution_count": 59,
     "metadata": {},
     "output_type": "execute_result"
    }
   ],
   "source": [
    "awesome_plot"
   ]
  },
  {
   "cell_type": "code",
   "execution_count": 67,
   "metadata": {
    "collapsed": false
   },
   "outputs": [
    {
     "data": {
      "image/png": "[encoded data removed]",
      "text/plain": [
       "<matplotlib.figure.Figure at 0x118338400>"
      ]
     },
     "metadata": {},
     "output_type": "display_data"
    }
   ],
   "source": [
    "cluster_freq(clusters,matches)"
   ]
  },
  {
   "cell_type": "code",
   "execution_count": 74,
   "metadata": {
    "collapsed": false
   },
   "outputs": [],
   "source": [
    "profiles=bio_info_subset.groupby(['cluster_assignment']).mean()\n",
    "profiles.drop(['pid','iid'],inplace=True,axis=1)"
   ]
  },
  {
   "cell_type": "code",
   "execution_count": 75,
   "metadata": {
    "collapsed": false
   },
   "outputs": [
    {
     "data": {
      "text/html": [
       "<div>\n",
       "<table border=\"1\" class=\"dataframe\">\n",
       "  <thead>\n",
       "    <tr style=\"text-align: right;\">\n",
       "      <th></th>\n",
       "      <th>match</th>\n",
       "      <th>age</th>\n",
       "      <th>sports</th>\n",
       "      <th>tvsports</th>\n",
       "      <th>exercise</th>\n",
       "      <th>dining</th>\n",
       "      <th>museums</th>\n",
       "      <th>art</th>\n",
       "      <th>hiking</th>\n",
       "      <th>gaming</th>\n",
       "      <th>clubbing</th>\n",
       "      <th>reading</th>\n",
       "      <th>tv</th>\n",
       "      <th>theater</th>\n",
       "      <th>movies</th>\n",
       "      <th>concerts</th>\n",
       "      <th>music</th>\n",
       "      <th>shopping</th>\n",
       "      <th>yoga</th>\n",
       "      <th>exphappy</th>\n",
       "    </tr>\n",
       "    <tr>\n",
       "      <th>cluster_assignment</th>\n",
       "      <th></th>\n",
       "      <th></th>\n",
       "      <th></th>\n",
       "      <th></th>\n",
       "      <th></th>\n",
       "      <th></th>\n",
       "      <th></th>\n",
       "      <th></th>\n",
       "      <th></th>\n",
       "      <th></th>\n",
       "      <th></th>\n",
       "      <th></th>\n",
       "      <th></th>\n",
       "      <th></th>\n",
       "      <th></th>\n",
       "      <th></th>\n",
       "      <th></th>\n",
       "      <th></th>\n",
       "      <th></th>\n",
       "      <th></th>\n",
       "    </tr>\n",
       "  </thead>\n",
       "  <tbody>\n",
       "    <tr>\n",
       "      <th>0</th>\n",
       "      <td>0.152606</td>\n",
       "      <td>29.170979</td>\n",
       "      <td>5.097488</td>\n",
       "      <td>2.566179</td>\n",
       "      <td>5.490814</td>\n",
       "      <td>7.978253</td>\n",
       "      <td>7.623172</td>\n",
       "      <td>7.437945</td>\n",
       "      <td>5.754031</td>\n",
       "      <td>2.651294</td>\n",
       "      <td>5.197975</td>\n",
       "      <td>8.184477</td>\n",
       "      <td>4.082865</td>\n",
       "      <td>7.207349</td>\n",
       "      <td>8.166854</td>\n",
       "      <td>7.012373</td>\n",
       "      <td>7.845519</td>\n",
       "      <td>4.899138</td>\n",
       "      <td>4.900637</td>\n",
       "      <td>5.338208</td>\n",
       "    </tr>\n",
       "    <tr>\n",
       "      <th>1</th>\n",
       "      <td>0.178202</td>\n",
       "      <td>24.591203</td>\n",
       "      <td>6.575679</td>\n",
       "      <td>5.478978</td>\n",
       "      <td>6.627749</td>\n",
       "      <td>8.457956</td>\n",
       "      <td>7.839586</td>\n",
       "      <td>7.739327</td>\n",
       "      <td>6.262290</td>\n",
       "      <td>4.958926</td>\n",
       "      <td>6.577620</td>\n",
       "      <td>7.743208</td>\n",
       "      <td>6.692755</td>\n",
       "      <td>7.895537</td>\n",
       "      <td>8.489004</td>\n",
       "      <td>7.840880</td>\n",
       "      <td>8.415265</td>\n",
       "      <td>7.272316</td>\n",
       "      <td>5.364812</td>\n",
       "      <td>5.722186</td>\n",
       "    </tr>\n",
       "    <tr>\n",
       "      <th>2</th>\n",
       "      <td>0.161265</td>\n",
       "      <td>25.567427</td>\n",
       "      <td>7.699080</td>\n",
       "      <td>5.631453</td>\n",
       "      <td>6.617447</td>\n",
       "      <td>6.734694</td>\n",
       "      <td>5.247699</td>\n",
       "      <td>4.657863</td>\n",
       "      <td>5.038816</td>\n",
       "      <td>3.899160</td>\n",
       "      <td>5.270108</td>\n",
       "      <td>7.047219</td>\n",
       "      <td>4.888756</td>\n",
       "      <td>4.919168</td>\n",
       "      <td>6.948379</td>\n",
       "      <td>5.368147</td>\n",
       "      <td>7.146058</td>\n",
       "      <td>4.392957</td>\n",
       "      <td>2.455382</td>\n",
       "      <td>5.494198</td>\n",
       "    </tr>\n",
       "  </tbody>\n",
       "</table>\n",
       "</div>"
      ],
      "text/plain": [
       "                       match        age    sports  tvsports  exercise  \\\n",
       "cluster_assignment                                                      \n",
       "0                   0.152606  29.170979  5.097488  2.566179  5.490814   \n",
       "1                   0.178202  24.591203  6.575679  5.478978  6.627749   \n",
       "2                   0.161265  25.567427  7.699080  5.631453  6.617447   \n",
       "\n",
       "                      dining   museums       art    hiking    gaming  \\\n",
       "cluster_assignment                                                     \n",
       "0                   7.978253  7.623172  7.437945  5.754031  2.651294   \n",
       "1                   8.457956  7.839586  7.739327  6.262290  4.958926   \n",
       "2                   6.734694  5.247699  4.657863  5.038816  3.899160   \n",
       "\n",
       "                    clubbing   reading        tv   theater    movies  \\\n",
       "cluster_assignment                                                     \n",
       "0                   5.197975  8.184477  4.082865  7.207349  8.166854   \n",
       "1                   6.577620  7.743208  6.692755  7.895537  8.489004   \n",
       "2                   5.270108  7.047219  4.888756  4.919168  6.948379   \n",
       "\n",
       "                    concerts     music  shopping      yoga  exphappy  \n",
       "cluster_assignment                                                    \n",
       "0                   7.012373  7.845519  4.899138  4.900637  5.338208  \n",
       "1                   7.840880  8.415265  7.272316  5.364812  5.722186  \n",
       "2                   5.368147  7.146058  4.392957  2.455382  5.494198  "
      ]
     },
     "execution_count": 75,
     "metadata": {},
     "output_type": "execute_result"
    }
   ],
   "source": [
    "profiles"
   ]
  }
 ],
 "metadata": {
  "kernelspec": {
   "display_name": "Python 3",
   "language": "python",
   "name": "python3"
  }
 },
 "nbformat": 4,
 "nbformat_minor": 2
}
