{
 "cells": [
  {
   "cell_type": "markdown",
   "metadata": {},
   "source": [
    "Import Necessary Packages"
   ]
  },
  {
   "cell_type": "code",
   "execution_count": 1,
   "metadata": {
    "collapsed": false
   },
   "outputs": [],
   "source": [
    "import cluster_freq\n",
    "import generate_clusters\n",
    "import generate_plotly\n",
    "import get_matches\n",
    "import json\n",
    "import matplotlib.pyplot as plt\n",
    "import networkx as nx\n",
    "import network_graph\n",
    "import numpy as np\n",
    "import pandas as pd\n",
    "import plotly \n",
    "import plotly.plotly as py\n",
    "from plotly.graph_objs import *\n",
    "import pylab\n",
    "import set_plotly_credentials as setply\n",
    "from sklearn.cluster import KMeans"
   ]
  },
  {
   "cell_type": "markdown",
   "metadata": {},
   "source": [
    "Read in Dataset"
   ]
  },
  {
   "cell_type": "code",
   "execution_count": 2,
   "metadata": {
    "collapsed": false
   },
   "outputs": [],
   "source": [
    "filepath = 'https://raw.githubusercontent.com/rmw647/not-that-into-you/master/Speed%20Dating%20Data.csv'\n",
    "data = pd.read_csv(filepath, encoding='latin1')"
   ]
  },
  {
   "cell_type": "markdown",
   "metadata": {},
   "source": [
    "Downselect columns to ones needed for analysis and create a smaller dataframe with only those columns."
   ]
  },
  {
   "cell_type": "code",
   "execution_count": 3,
   "metadata": {
    "collapsed": false
   },
   "outputs": [],
   "source": [
    "keep_columns = ['iid','pid','match','age','sports','tvsports','exercise','dining','museums',\n",
    "                'art','hiking','gaming','clubbing','reading','tv','theater','movies','concerts',\n",
    "                'music','shopping','yoga','exphappy']\n",
    "bio_info = data[keep_columns]\n",
    "bio_info = bio_info.dropna(how='any')"
   ]
  },
  {
   "cell_type": "markdown",
   "metadata": {},
   "source": [
    "Original dataframe has 10 records for each participant (one record for each date they went on). Create a subsetted dataframe that contains only one row for participant."
   ]
  },
  {
   "cell_type": "code",
   "execution_count": 4,
   "metadata": {
    "collapsed": false
   },
   "outputs": [],
   "source": [
    "bio_info_subset = bio_info.drop_duplicates(subset='iid')"
   ]
  },
  {
   "cell_type": "markdown",
   "metadata": {},
   "source": [
    "Select out the data for particpants who matched. Create a dataframe of patching pairs and a list of edges with data (person1,  person2)."
   ]
  },
  {
   "cell_type": "code",
   "execution_count": 5,
   "metadata": {
    "collapsed": true
   },
   "outputs": [],
   "source": [
    "matches, edges = get_matches.get_matches(bio_info)"
   ]
  },
  {
   "cell_type": "markdown",
   "metadata": {},
   "source": [
    "Perform K-means clustering. No need to normalize because all data used is on the same scale (1- 10). We ran for several different numbers of clusters, and found 3 was a manageable number that still offered granularity.\n",
    "\n",
    "Add a column to the subsetted data that shows the cluster assignment for each participant."
   ]
  },
  {
   "cell_type": "code",
   "execution_count": 50,
   "metadata": {
    "collapsed": false
   },
   "outputs": [
    {
     "name": "stderr",
     "output_type": "stream",
     "text": [
      "/Users/laurenwilliams/Documents/capstone/not-that-into-you/generate_clusters.py:23: SettingWithCopyWarning:\n",
      "\n",
      "\n",
      "A value is trying to be set on a copy of a slice from a DataFrame.\n",
      "Try using .loc[row_indexer,col_indexer] = value instead\n",
      "\n",
      "See the caveats in the documentation: http://pandas.pydata.org/pandas-docs/stable/indexing.html#indexing-view-versus-copy\n",
      "\n"
     ]
    }
   ],
   "source": [
    "cluster_columns = ['sports','tvsports','exercise','dining','museums','art','hiking','gaming','clubbing',\n",
    "                   'reading','tv','theater','movies','concerts','music','shopping','yoga','exphappy']\n",
    "number_of_clusters = 3\n",
    "bio_info_subset = generate_clusters.generate_clusters(bio_info_subset, cluster_columns, \n",
    "                                                      number_of_clusters,'cluster_assignment')"
   ]
  },
  {
   "cell_type": "markdown",
   "metadata": {},
   "source": [
    "Create and plot a network graph showing the interactions within and between clusters of people."
   ]
  },
  {
   "cell_type": "code",
   "execution_count": 51,
   "metadata": {
    "collapsed": false
   },
   "outputs": [],
   "source": [
    "G, clusters = network_graph.network_graph(bio_info_subset, edges, \"circles\", number_of_clusters)"
   ]
  },
  {
   "cell_type": "code",
   "execution_count": 52,
   "metadata": {
    "collapsed": false
   },
   "outputs": [],
   "source": [
    "setply.set_plotly_credentials('credentials.json')"
   ]
  },
  {
   "cell_type": "code",
   "execution_count": 53,
   "metadata": {
    "collapsed": false,
    "scrolled": true
   },
   "outputs": [],
   "source": [
    "awesome_plot = generate_plotly.generate_plotly(G, clusters)"
   ]
  },
  {
   "cell_type": "code",
   "execution_count": 54,
   "metadata": {
    "collapsed": false
   },
   "outputs": [
    {
     "data": {
      "text/html": [
       "<iframe id=\"igraph\" scrolling=\"no\" style=\"border:none;\" seamless=\"seamless\" src=\"https://plot.ly/~KellyFowler/10.embed\" height=\"650px\" width=\"650px\"></iframe>"
      ],
      "text/plain": [
       "<plotly.tools.PlotlyDisplay object>"
      ]
     },
     "execution_count": 54,
     "metadata": {},
     "output_type": "execute_result"
    }
   ],
   "source": [
    "awesome_plot"
   ]
  },
  {
   "cell_type": "markdown",
   "metadata": {},
   "source": [
    "Do people within the same cluster match with each other more frequently than they match with people in other clusters? Make a plot showing how often people match within cluster and outside cluster."
   ]
  },
  {
   "cell_type": "code",
   "execution_count": 55,
   "metadata": {
    "collapsed": false
   },
   "outputs": [
    {
     "data": {
      "image/png": "[encoded data removed]",
      "text/plain": [
       "<matplotlib.figure.Figure at 0x123019240>"
      ]
     },
     "metadata": {},
     "output_type": "display_data"
    }
   ],
   "source": [
    "cluster_freq.cluster_freq(clusters,matches)"
   ]
  },
  {
   "cell_type": "code",
   "execution_count": 56,
   "metadata": {
    "collapsed": false
   },
   "outputs": [
    {
     "data": {
      "text/plain": [
       "{'cluster0': 192, 'cluster1': 185, 'cluster2': 165}"
      ]
     },
     "execution_count": 56,
     "metadata": {},
     "output_type": "execute_result"
    }
   ],
   "source": [
    "cluster_sizes = cluster_freq.get_cluster_size(bio_info_subset)\n",
    "cluster_sizes"
   ]
  },
  {
   "cell_type": "code",
   "execution_count": 57,
   "metadata": {
    "collapsed": false
   },
   "outputs": [],
   "source": [
    "profiles = bio_info_subset.groupby(['cluster_assignment']).mean()\n",
    "profiles.drop(['pid','iid'], inplace=True,axis=1)"
   ]
  },
  {
   "cell_type": "code",
   "execution_count": 58,
   "metadata": {
    "collapsed": false
   },
   "outputs": [
    {
     "data": {
      "text/html": [
       "<div>\n",
       "<table border=\"1\" class=\"dataframe\">\n",
       "  <thead>\n",
       "    <tr style=\"text-align: right;\">\n",
       "      <th></th>\n",
       "      <th>match</th>\n",
       "      <th>age</th>\n",
       "      <th>sports</th>\n",
       "      <th>tvsports</th>\n",
       "      <th>exercise</th>\n",
       "      <th>dining</th>\n",
       "      <th>museums</th>\n",
       "      <th>art</th>\n",
       "      <th>hiking</th>\n",
       "      <th>gaming</th>\n",
       "      <th>clubbing</th>\n",
       "      <th>reading</th>\n",
       "      <th>tv</th>\n",
       "      <th>theater</th>\n",
       "      <th>movies</th>\n",
       "      <th>concerts</th>\n",
       "      <th>music</th>\n",
       "      <th>shopping</th>\n",
       "      <th>yoga</th>\n",
       "      <th>exphappy</th>\n",
       "    </tr>\n",
       "    <tr>\n",
       "      <th>cluster_assignment</th>\n",
       "      <th></th>\n",
       "      <th></th>\n",
       "      <th></th>\n",
       "      <th></th>\n",
       "      <th></th>\n",
       "      <th></th>\n",
       "      <th></th>\n",
       "      <th></th>\n",
       "      <th></th>\n",
       "      <th></th>\n",
       "      <th></th>\n",
       "      <th></th>\n",
       "      <th></th>\n",
       "      <th></th>\n",
       "      <th></th>\n",
       "      <th></th>\n",
       "      <th></th>\n",
       "      <th></th>\n",
       "      <th></th>\n",
       "      <th></th>\n",
       "    </tr>\n",
       "  </thead>\n",
       "  <tbody>\n",
       "    <tr>\n",
       "      <th>0</th>\n",
       "      <td>0.140625</td>\n",
       "      <td>26.223958</td>\n",
       "      <td>7.385417</td>\n",
       "      <td>4.989583</td>\n",
       "      <td>6.385417</td>\n",
       "      <td>6.739583</td>\n",
       "      <td>5.333333</td>\n",
       "      <td>4.786458</td>\n",
       "      <td>5.125000</td>\n",
       "      <td>3.677083</td>\n",
       "      <td>5.166667</td>\n",
       "      <td>7.020833</td>\n",
       "      <td>4.598958</td>\n",
       "      <td>4.843750</td>\n",
       "      <td>6.958333</td>\n",
       "      <td>5.515625</td>\n",
       "      <td>7.187500</td>\n",
       "      <td>4.156250</td>\n",
       "      <td>2.750000</td>\n",
       "      <td>5.427083</td>\n",
       "    </tr>\n",
       "    <tr>\n",
       "      <th>1</th>\n",
       "      <td>0.156757</td>\n",
       "      <td>27.113514</td>\n",
       "      <td>4.264865</td>\n",
       "      <td>2.497297</td>\n",
       "      <td>5.221622</td>\n",
       "      <td>8.259459</td>\n",
       "      <td>7.989189</td>\n",
       "      <td>7.886486</td>\n",
       "      <td>5.421622</td>\n",
       "      <td>2.648649</td>\n",
       "      <td>5.600000</td>\n",
       "      <td>8.400000</td>\n",
       "      <td>5.021622</td>\n",
       "      <td>8.005405</td>\n",
       "      <td>8.443243</td>\n",
       "      <td>7.383784</td>\n",
       "      <td>8.178378</td>\n",
       "      <td>5.989189</td>\n",
       "      <td>5.091892</td>\n",
       "      <td>5.162162</td>\n",
       "    </tr>\n",
       "    <tr>\n",
       "      <th>2</th>\n",
       "      <td>0.151515</td>\n",
       "      <td>25.672727</td>\n",
       "      <td>7.660606</td>\n",
       "      <td>6.363636</td>\n",
       "      <td>7.393939</td>\n",
       "      <td>8.430303</td>\n",
       "      <td>7.745455</td>\n",
       "      <td>7.551515</td>\n",
       "      <td>6.836364</td>\n",
       "      <td>5.400000</td>\n",
       "      <td>6.581818</td>\n",
       "      <td>7.515152</td>\n",
       "      <td>6.515152</td>\n",
       "      <td>7.593939</td>\n",
       "      <td>8.381818</td>\n",
       "      <td>7.787879</td>\n",
       "      <td>8.333333</td>\n",
       "      <td>6.872727</td>\n",
       "      <td>5.581818</td>\n",
       "      <td>6.000000</td>\n",
       "    </tr>\n",
       "  </tbody>\n",
       "</table>\n",
       "</div>"
      ],
      "text/plain": [
       "                       match        age    sports  tvsports  exercise  \\\n",
       "cluster_assignment                                                      \n",
       "0                   0.140625  26.223958  7.385417  4.989583  6.385417   \n",
       "1                   0.156757  27.113514  4.264865  2.497297  5.221622   \n",
       "2                   0.151515  25.672727  7.660606  6.363636  7.393939   \n",
       "\n",
       "                      dining   museums       art    hiking    gaming  \\\n",
       "cluster_assignment                                                     \n",
       "0                   6.739583  5.333333  4.786458  5.125000  3.677083   \n",
       "1                   8.259459  7.989189  7.886486  5.421622  2.648649   \n",
       "2                   8.430303  7.745455  7.551515  6.836364  5.400000   \n",
       "\n",
       "                    clubbing   reading        tv   theater    movies  \\\n",
       "cluster_assignment                                                     \n",
       "0                   5.166667  7.020833  4.598958  4.843750  6.958333   \n",
       "1                   5.600000  8.400000  5.021622  8.005405  8.443243   \n",
       "2                   6.581818  7.515152  6.515152  7.593939  8.381818   \n",
       "\n",
       "                    concerts     music  shopping      yoga  exphappy  \n",
       "cluster_assignment                                                    \n",
       "0                   5.515625  7.187500  4.156250  2.750000  5.427083  \n",
       "1                   7.383784  8.178378  5.989189  5.091892  5.162162  \n",
       "2                   7.787879  8.333333  6.872727  5.581818  6.000000  "
      ]
     },
     "execution_count": 58,
     "metadata": {},
     "output_type": "execute_result"
    }
   ],
   "source": [
    "profiles"
   ]
  },
  {
   "cell_type": "code",
   "execution_count": 59,
   "metadata": {
    "collapsed": false
   },
   "outputs": [
    {
     "data": {
      "text/plain": [
       "<matplotlib.axes._subplots.AxesSubplot at 0x11a768a90>"
      ]
     },
     "execution_count": 59,
     "metadata": {},
     "output_type": "execute_result"
    },
    {
     "data": {
      "image/png": "[encoded data removed]",
      "text/plain": [
       "<matplotlib.figure.Figure at 0x1232428d0>"
      ]
     },
     "metadata": {},
     "output_type": "display_data"
    }
   ],
   "source": [
    "%matplotlib inline\n",
    "profiles_subset=profiles[['sports','exercise','dining','museums','reading','clubbing','exphappy']]\n",
    "profiles_subset.plot(kind = 'bar')"
   ]
  }
 ],
 "metadata": {
  "kernelspec": {
   "display_name": "Python 3",
   "language": "python",
   "name": "python3"
  },
  "language_info": {
   "codemirror_mode": {
    "name": "ipython",
    "version": 3
   },
   "file_extension": ".py",
   "mimetype": "text/x-python",
   "name": "python",
   "nbconvert_exporter": "python",
   "pygments_lexer": "ipython3",
   "version": "3.6.0"
  }
 },
 "nbformat": 4,
 "nbformat_minor": 2
}
